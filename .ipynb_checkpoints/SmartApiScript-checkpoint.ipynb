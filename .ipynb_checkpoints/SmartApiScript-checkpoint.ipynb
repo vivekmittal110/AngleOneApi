{
 "cells": [
  {
   "cell_type": "code",
   "execution_count": 15,
   "id": "c60b08d5-abf2-4d85-934d-386094f037a7",
   "metadata": {},
   "outputs": [],
   "source": [
    "from SmartApi import SmartConnect\n",
    "import os\n",
    "from pyotp import TOTP\n",
    "import urllib\n",
    "import json"
   ]
  },
  {
   "cell_type": "code",
   "execution_count": 11,
   "id": "2519c7ce-fa0e-4a96-9b19-b0e4ee52ae1d",
   "metadata": {},
   "outputs": [
    {
     "name": "stderr",
     "output_type": "stream",
     "text": [
      "[I 250104 13:54:54 smartConnect:121] in pool\n"
     ]
    }
   ],
   "source": [
    "key_path = r\"C:\\Users\\91931\\Desktop\\Keys\"\n",
    "os.chdir(key_path)\n",
    "key_secret = open(\"angle_key.txt\",'r').read().split()\n",
    "api_key = key_secret[0]\n",
    "username = key_secret[2]\n",
    "pwd = key_secret[3]\n",
    "totp = TOTP(key_secret[4]).now()\n",
    "\n",
    "smartApi = SmartConnect(api_key)\n",
    "\n",
    "data = smartApi.generateSession(username, pwd, totp)"
   ]
  },
  {
   "cell_type": "code",
   "execution_count": 28,
   "id": "d8342fd4-0eec-42ef-98bf-6ae51a58ffd1",
   "metadata": {},
   "outputs": [],
   "source": [
    "instrument_url = \"https://margincalculator.angelbroking.com/OpenAPI_File/files/OpenAPIScripMaster.json\"\n",
    "response = urllib.request.urlopen(instrument_url)\n",
    "instrument_list = json.loads(response.read())"
   ]
  },
  {
   "cell_type": "code",
   "execution_count": 30,
   "id": "e7aaea6c-9967-424b-9f10-d1270f2b0290",
   "metadata": {},
   "outputs": [],
   "source": [
    "def token_lookup(ticker, instrument_list, exchange=\"NSE\"):\n",
    "    for instrument in instrument_list:\n",
    "        if instrument[\"name\"] == ticker and instrument[\"exch_seg\"] == exchange and instrument['symbol'].split('-')[-1] == \"EQ\" :\n",
    "            return instrument[\"token\"]"
   ]
  },
  {
   "cell_type": "code",
   "execution_count": 36,
   "id": "a3c72d33-c00e-468f-bac9-38e0b3b3684e",
   "metadata": {},
   "outputs": [],
   "source": [
    "def symbol_lookup(token, instrument_list, exchange=\"NSE\"):\n",
    "    for instrument in instrument_list:\n",
    "        if instrument[\"token\"] == token and instrument[\"exch_seg\"] == exchange and instrument['symbol'].split('-')[-1] == \"EQ\" :\n",
    "            return instrument[\"name\"]"
   ]
  },
  {
   "cell_type": "code",
   "execution_count": null,
   "id": "3f96fc2b-ce37-4a20-992d-d0662b773155",
   "metadata": {},
   "outputs": [],
   "source": [
    "params = {\n",
    "         \"exchange\": \"NSE\",\n",
    "         \"symboltoken\": \"99926000\",\n",
    "         \"interval\": \"ONE_HOUR\",\n",
    "         \"fromdate\": \"2023-09-06 11:15\",\n",
    "         \"todate\": \"2023-09-06 12:00\"\n",
    "        }"
   ]
  },
  {
   "cell_type": "code",
   "execution_count": 34,
   "id": "38055d76-5226-47a2-b9d2-a454454fbd8e",
   "metadata": {},
   "outputs": [
    {
     "data": {
      "text/plain": [
       "'10297'"
      ]
     },
     "execution_count": 34,
     "metadata": {},
     "output_type": "execute_result"
    }
   ],
   "source": [
    "token_lookup(\"PPL\",instrument_list)"
   ]
  },
  {
   "cell_type": "code",
   "execution_count": 48,
   "id": "2959aa8e-c4d0-4146-a06a-303eb848ea37",
   "metadata": {},
   "outputs": [
    {
     "data": {
      "text/plain": [
       "'AYMSYNTEX'"
      ]
     },
     "execution_count": 48,
     "metadata": {},
     "output_type": "execute_result"
    }
   ],
   "source": [
    "symbol_lookup(\"10285\",instrument_list)"
   ]
  }
 ],
 "metadata": {
  "kernelspec": {
   "display_name": "Python [conda env:base] *",
   "language": "python",
   "name": "conda-base-py"
  },
  "language_info": {
   "codemirror_mode": {
    "name": "ipython",
    "version": 3
   },
   "file_extension": ".py",
   "mimetype": "text/x-python",
   "name": "python",
   "nbconvert_exporter": "python",
   "pygments_lexer": "ipython3",
   "version": "3.12.7"
  }
 },
 "nbformat": 4,
 "nbformat_minor": 5
}
