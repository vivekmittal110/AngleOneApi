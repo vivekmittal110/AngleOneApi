{
 "cells": [
  {
   "cell_type": "code",
   "execution_count": 148,
   "id": "c60b08d5-abf2-4d85-934d-386094f037a7",
   "metadata": {},
   "outputs": [],
   "source": [
    "from SmartApi import SmartConnect\n",
    "import os\n",
    "from pyotp import TOTP\n",
    "import urllib\n",
    "import json\n",
    "import pandas as pd\n",
    "import datetime as dt"
   ]
  },
  {
   "cell_type": "code",
   "execution_count": 84,
   "id": "2519c7ce-fa0e-4a96-9b19-b0e4ee52ae1d",
   "metadata": {},
   "outputs": [
    {
     "name": "stderr",
     "output_type": "stream",
     "text": [
      "[I 250104 15:41:20 smartConnect:121] in pool\n"
     ]
    }
   ],
   "source": [
    "key_path = r\"C:\\Users\\91931\\Desktop\\Keys\"\n",
    "os.chdir(key_path)\n",
    "key_secret = open(\"angle_key.txt\",'r').read().split()\n",
    "api_key = key_secret[0]\n",
    "username = key_secret[2]\n",
    "pwd = key_secret[3]\n",
    "totp = TOTP(key_secret[4]).now()\n",
    "\n",
    "smartApi = SmartConnect(api_key)\n",
    "\n",
    "data = smartApi.generateSession(username, pwd, totp)"
   ]
  },
  {
   "cell_type": "code",
   "execution_count": 85,
   "id": "d8342fd4-0eec-42ef-98bf-6ae51a58ffd1",
   "metadata": {},
   "outputs": [],
   "source": [
    "instrument_url = \"https://margincalculator.angelbroking.com/OpenAPI_File/files/OpenAPIScripMaster.json\"\n",
    "response = urllib.request.urlopen(instrument_url)\n",
    "instrument_list = json.loads(response.read())"
   ]
  },
  {
   "cell_type": "code",
   "execution_count": 50,
   "id": "e7aaea6c-9967-424b-9f10-d1270f2b0290",
   "metadata": {},
   "outputs": [],
   "source": [
    "def token_lookup(ticker, exchange=\"NSE\"):\n",
    "    for instrument in instrument_list:\n",
    "        if instrument[\"name\"] == ticker and instrument[\"exch_seg\"] == exchange and instrument['symbol'].split('-')[-1] == \"EQ\" :\n",
    "            return instrument[\"token\"]"
   ]
  },
  {
   "cell_type": "code",
   "execution_count": 56,
   "id": "a3c72d33-c00e-468f-bac9-38e0b3b3684e",
   "metadata": {},
   "outputs": [],
   "source": [
    "def symbol_lookup(token, exchange=\"NSE\"):\n",
    "    for instrument in instrument_list:\n",
    "        if instrument[\"token\"] == token and instrument[\"exch_seg\"] == exchange and instrument['symbol'].split('-')[-1] == \"EQ\" :\n",
    "            return instrument[\"name\"]"
   ]
  },
  {
   "cell_type": "code",
   "execution_count": 154,
   "id": "3f96fc2b-ce37-4a20-992d-d0662b773155",
   "metadata": {},
   "outputs": [],
   "source": [
    "def hist_data(ticker,duration,interval,exchange=\"NSE\"):\n",
    "    params = {\n",
    "             \"exchange\": exchange,\n",
    "             \"symboltoken\": token_lookup(ticker),\n",
    "             \"interval\": interval,\n",
    "             \"fromdate\": (dt.date.today() - dt.timedelta(duration)).strftime(\"%Y-%m-%d %H:%M\"),\n",
    "             \"todate\": dt.date.today().strftime(\"%Y-%m-%d %H:%M\")\n",
    "            }\n",
    "    historical_data = smartApi.getCandleData(params)\n",
    "    df_data = pd.DataFrame(historical_data[\"data\"], \n",
    "                           columns = [\"date\",\"open\",\"high\",\"low\",\"close\",\"volume\"])\n",
    "    df_data.set_index(\"date\",inplace=True)\n",
    "    df_data.index = pd.to_datetime(df_data.index)\n",
    "    df_data.index = df_data.index.tz_localize(None)\n",
    "    return df_data"
   ]
  },
  {
   "cell_type": "code",
   "execution_count": 54,
   "id": "38055d76-5226-47a2-b9d2-a454454fbd8e",
   "metadata": {},
   "outputs": [
    {
     "data": {
      "text/plain": [
       "'10297'"
      ]
     },
     "execution_count": 54,
     "metadata": {},
     "output_type": "execute_result"
    }
   ],
   "source": [
    "token_lookup(\"PPL\")"
   ]
  },
  {
   "cell_type": "code",
   "execution_count": 58,
   "id": "2959aa8e-c4d0-4146-a06a-303eb848ea37",
   "metadata": {},
   "outputs": [
    {
     "data": {
      "text/plain": [
       "'AYMSYNTEX'"
      ]
     },
     "execution_count": 58,
     "metadata": {},
     "output_type": "execute_result"
    }
   ],
   "source": [
    "symbol_lookup(\"10285\")"
   ]
  },
  {
   "cell_type": "code",
   "execution_count": 160,
   "id": "ccf832e2-266a-48d5-bc22-208ed2fa29a2",
   "metadata": {},
   "outputs": [
    {
     "data": {
      "text/html": [
       "<div>\n",
       "<style scoped>\n",
       "    .dataframe tbody tr th:only-of-type {\n",
       "        vertical-align: middle;\n",
       "    }\n",
       "\n",
       "    .dataframe tbody tr th {\n",
       "        vertical-align: top;\n",
       "    }\n",
       "\n",
       "    .dataframe thead th {\n",
       "        text-align: right;\n",
       "    }\n",
       "</style>\n",
       "<table border=\"1\" class=\"dataframe\">\n",
       "  <thead>\n",
       "    <tr style=\"text-align: right;\">\n",
       "      <th></th>\n",
       "      <th>open</th>\n",
       "      <th>high</th>\n",
       "      <th>low</th>\n",
       "      <th>close</th>\n",
       "      <th>volume</th>\n",
       "    </tr>\n",
       "    <tr>\n",
       "      <th>date</th>\n",
       "      <th></th>\n",
       "      <th></th>\n",
       "      <th></th>\n",
       "      <th></th>\n",
       "      <th></th>\n",
       "    </tr>\n",
       "  </thead>\n",
       "  <tbody>\n",
       "    <tr>\n",
       "      <th>2024-12-05 09:15:00</th>\n",
       "      <td>1859.90</td>\n",
       "      <td>1859.90</td>\n",
       "      <td>1845.0</td>\n",
       "      <td>1846.80</td>\n",
       "      <td>2018488</td>\n",
       "    </tr>\n",
       "    <tr>\n",
       "      <th>2024-12-05 10:15:00</th>\n",
       "      <td>1846.80</td>\n",
       "      <td>1850.00</td>\n",
       "      <td>1835.2</td>\n",
       "      <td>1841.35</td>\n",
       "      <td>1393010</td>\n",
       "    </tr>\n",
       "    <tr>\n",
       "      <th>2024-12-05 11:15:00</th>\n",
       "      <td>1841.35</td>\n",
       "      <td>1866.30</td>\n",
       "      <td>1840.0</td>\n",
       "      <td>1862.85</td>\n",
       "      <td>2463881</td>\n",
       "    </tr>\n",
       "    <tr>\n",
       "      <th>2024-12-05 12:15:00</th>\n",
       "      <td>1862.85</td>\n",
       "      <td>1869.50</td>\n",
       "      <td>1862.1</td>\n",
       "      <td>1868.65</td>\n",
       "      <td>2066436</td>\n",
       "    </tr>\n",
       "    <tr>\n",
       "      <th>2024-12-05 13:15:00</th>\n",
       "      <td>1868.25</td>\n",
       "      <td>1874.00</td>\n",
       "      <td>1862.2</td>\n",
       "      <td>1872.60</td>\n",
       "      <td>2410595</td>\n",
       "    </tr>\n",
       "    <tr>\n",
       "      <th>...</th>\n",
       "      <td>...</td>\n",
       "      <td>...</td>\n",
       "      <td>...</td>\n",
       "      <td>...</td>\n",
       "      <td>...</td>\n",
       "    </tr>\n",
       "    <tr>\n",
       "      <th>2025-01-03 11:15:00</th>\n",
       "      <td>1759.70</td>\n",
       "      <td>1768.00</td>\n",
       "      <td>1758.0</td>\n",
       "      <td>1760.10</td>\n",
       "      <td>1428052</td>\n",
       "    </tr>\n",
       "    <tr>\n",
       "      <th>2025-01-03 12:15:00</th>\n",
       "      <td>1760.55</td>\n",
       "      <td>1762.00</td>\n",
       "      <td>1750.5</td>\n",
       "      <td>1759.60</td>\n",
       "      <td>1716078</td>\n",
       "    </tr>\n",
       "    <tr>\n",
       "      <th>2025-01-03 13:15:00</th>\n",
       "      <td>1759.60</td>\n",
       "      <td>1760.85</td>\n",
       "      <td>1750.0</td>\n",
       "      <td>1752.90</td>\n",
       "      <td>1238251</td>\n",
       "    </tr>\n",
       "    <tr>\n",
       "      <th>2025-01-03 14:15:00</th>\n",
       "      <td>1752.95</td>\n",
       "      <td>1756.85</td>\n",
       "      <td>1746.3</td>\n",
       "      <td>1748.90</td>\n",
       "      <td>3001117</td>\n",
       "    </tr>\n",
       "    <tr>\n",
       "      <th>2025-01-03 15:15:00</th>\n",
       "      <td>1748.90</td>\n",
       "      <td>1751.40</td>\n",
       "      <td>1747.0</td>\n",
       "      <td>1748.40</td>\n",
       "      <td>1362870</td>\n",
       "    </tr>\n",
       "  </tbody>\n",
       "</table>\n",
       "<p>147 rows × 5 columns</p>\n",
       "</div>"
      ],
      "text/plain": [
       "                        open     high     low    close   volume\n",
       "date                                                           \n",
       "2024-12-05 09:15:00  1859.90  1859.90  1845.0  1846.80  2018488\n",
       "2024-12-05 10:15:00  1846.80  1850.00  1835.2  1841.35  1393010\n",
       "2024-12-05 11:15:00  1841.35  1866.30  1840.0  1862.85  2463881\n",
       "2024-12-05 12:15:00  1862.85  1869.50  1862.1  1868.65  2066436\n",
       "2024-12-05 13:15:00  1868.25  1874.00  1862.2  1872.60  2410595\n",
       "...                      ...      ...     ...      ...      ...\n",
       "2025-01-03 11:15:00  1759.70  1768.00  1758.0  1760.10  1428052\n",
       "2025-01-03 12:15:00  1760.55  1762.00  1750.5  1759.60  1716078\n",
       "2025-01-03 13:15:00  1759.60  1760.85  1750.0  1752.90  1238251\n",
       "2025-01-03 14:15:00  1752.95  1756.85  1746.3  1748.90  3001117\n",
       "2025-01-03 15:15:00  1748.90  1751.40  1747.0  1748.40  1362870\n",
       "\n",
       "[147 rows x 5 columns]"
      ]
     },
     "execution_count": 160,
     "metadata": {},
     "output_type": "execute_result"
    }
   ],
   "source": [
    "hist_data(\"HDFCBANK\",30,\"ONE_HOUR\")"
   ]
  },
  {
   "cell_type": "code",
   "execution_count": 162,
   "id": "c96dc08c-e07a-430d-9c9b-bdfc67cf48d1",
   "metadata": {},
   "outputs": [
    {
     "ename": "AttributeError",
     "evalue": "'NoneType' object has no attribute 'find'",
     "output_type": "error",
     "traceback": [
      "\u001b[1;31m---------------------------------------------------------------------------\u001b[0m",
      "\u001b[1;31mAttributeError\u001b[0m                            Traceback (most recent call last)",
      "Cell \u001b[1;32mIn[162], line 25\u001b[0m\n\u001b[0;32m     22\u001b[0m lot_size_mar \u001b[38;5;241m=\u001b[39m []\n\u001b[0;32m     24\u001b[0m \u001b[38;5;66;03m# Extract table rows\u001b[39;00m\n\u001b[1;32m---> 25\u001b[0m rows \u001b[38;5;241m=\u001b[39m \u001b[43mtable\u001b[49m\u001b[38;5;241;43m.\u001b[39;49m\u001b[43mfind\u001b[49m(\u001b[38;5;124m\"\u001b[39m\u001b[38;5;124mtbody\u001b[39m\u001b[38;5;124m\"\u001b[39m)\u001b[38;5;241m.\u001b[39mfind_all(\u001b[38;5;124m\"\u001b[39m\u001b[38;5;124mtr\u001b[39m\u001b[38;5;124m\"\u001b[39m)\n\u001b[0;32m     26\u001b[0m \u001b[38;5;28;01mfor\u001b[39;00m row \u001b[38;5;129;01min\u001b[39;00m rows:\n\u001b[0;32m     27\u001b[0m     cols \u001b[38;5;241m=\u001b[39m row\u001b[38;5;241m.\u001b[39mfind_all(\u001b[38;5;124m\"\u001b[39m\u001b[38;5;124mtd\u001b[39m\u001b[38;5;124m\"\u001b[39m)\n",
      "\u001b[1;31mAttributeError\u001b[0m: 'NoneType' object has no attribute 'find'"
     ]
    }
   ],
   "source": [
    "import requests\n",
    "from bs4 import BeautifulSoup\n",
    "import pandas as pd\n",
    "\n",
    "# URL of the website containing the data\n",
    "url = \"https://dhan.co/nse-fno-lot-size/\"\n",
    "\n",
    "# Send an HTTP request to the website\n",
    "response = requests.get(url)\n",
    "\n",
    "# Parse the HTML content of the page\n",
    "soup = BeautifulSoup(response.text, \"html.parser\")\n",
    "\n",
    "# Find the table containing the data\n",
    "table = soup.find(\"table\", {\"class\": \"table table-bod-stk-mrkt\"})\n",
    "\n",
    "# Initialize lists to store data\n",
    "companies = []\n",
    "symbols = []\n",
    "lot_size_jan = []\n",
    "lot_size_feb = []\n",
    "lot_size_mar = []\n",
    "\n",
    "# Extract table rows\n",
    "rows = table.find(\"tbody\").find_all(\"tr\")\n",
    "for row in rows:\n",
    "    cols = row.find_all(\"td\")\n",
    "    companies.append(cols[0].text.strip())\n",
    "    symbols.append(cols[1].text.strip())\n",
    "    lot_size_jan.append(cols[2].text.strip())\n",
    "    lot_size_feb.append(cols[3].text.strip())\n",
    "    lot_size_mar.append(cols[4].text.strip())\n",
    "\n",
    "# Create a DataFrame\n",
    "data = {\n",
    "    \"Company Name\": companies,\n",
    "    \"Symbol\": symbols,\n",
    "    \"Lot Size (Jan 2025)\": lot_size_jan,\n",
    "    \"Lot Size (Feb 2025)\": lot_size_feb,\n",
    "    \"Lot Size (Mar 2025)\": lot_size_mar,\n",
    "}\n",
    "df = pd.DataFrame(data)\n",
    "\n",
    "# Save the data to an Excel file\n",
    "file_name = \"NSE_FO_Lot_Sizes.xlsx\"\n",
    "df.to_excel(file_name, index=False)\n",
    "\n",
    "print(f\"Data Successfully saved to {file_name}\")\n"
   ]
  },
  {
   "cell_type": "code",
   "execution_count": 164,
   "id": "2a935c6c-16d7-4f6d-ab3e-3a1020043b86",
   "metadata": {},
   "outputs": [
    {
     "name": "stdout",
     "output_type": "stream",
     "text": [
      "Data successfully saved to NSE_FO_Lot_Sizes_Selenium.xlsx\n"
     ]
    }
   ],
   "source": [
    "from selenium import webdriver\n",
    "from selenium.webdriver.common.by import By\n",
    "import pandas as pd\n",
    "import time\n",
    "\n",
    "# Set up the Selenium WebDriver\n",
    "driver = webdriver.Chrome()  # Ensure you have the ChromeDriver installed and in PATH\n",
    "\n",
    "# Open the webpage\n",
    "url = \"https://dhan.co/nse-fno-lot-size/\"\n",
    "driver.get(url)\n",
    "\n",
    "# Wait for the page to load\n",
    "time.sleep(5)  # Adjust the delay as needed\n",
    "\n",
    "# Locate the table\n",
    "rows = driver.find_elements(By.CSS_SELECTOR, \"table.table-bod-stk-mrkt tbody tr\")\n",
    "\n",
    "# Initialize lists to store data\n",
    "companies = []\n",
    "symbols = []\n",
    "lot_size_jan = []\n",
    "lot_size_feb = []\n",
    "lot_size_mar = []\n",
    "\n",
    "# Extract data from rows\n",
    "for row in rows:\n",
    "    cols = row.find_elements(By.TAG_NAME, \"td\")\n",
    "    companies.append(cols[0].text.strip())\n",
    "    symbols.append(cols[1].text.strip())\n",
    "    lot_size_jan.append(cols[2].text.strip())\n",
    "    lot_size_feb.append(cols[3].text.strip())\n",
    "    lot_size_mar.append(cols[4].text.strip())\n",
    "\n",
    "# Close the WebDriver\n",
    "driver.quit()\n",
    "\n",
    "# Create a DataFrame\n",
    "data = {\n",
    "    \"Company Name\": companies,\n",
    "    \"Symbol\": symbols,\n",
    "    \"Lot Size (Jan 2025)\": lot_size_jan,\n",
    "    \"Lot Size (Feb 2025)\": lot_size_feb,\n",
    "    \"Lot Size (Mar 2025)\": lot_size_mar,\n",
    "}\n",
    "df = pd.DataFrame(data)\n",
    "\n",
    "# Save the data to an Excel file\n",
    "file_name = \"NSE_FO_Lot_Sizes_Selenium.xlsx\"\n",
    "df.to_excel(file_name, index=False)\n",
    "\n",
    "print(f\"Data successfully saved to {file_name}\")\n"
   ]
  },
  {
   "cell_type": "code",
   "execution_count": null,
   "id": "d3134df6-e8b8-4020-9076-9fd43211f848",
   "metadata": {},
   "outputs": [],
   "source": [
    "import pandas as pd\n",
    "import yfinance as yf  # Install using `pip install yfinance`\n",
    "\n",
    "# Step 1: Load the Excel file\n",
    "file_path = \"NSE_FO_Lot_Sizes_Selenium.xlsx\"\n",
    "df = pd.read_excel(file_path)\n",
    "\n",
    "# Step 2: Fetch current prices using Yahoo Finance\n",
    "def get_current_price(symbol):\n",
    "    try:\n",
    "        stock = yf.Ticker(symbol)\n",
    "        return stock.history(period=\"1d\")['Close'].iloc[-1]\n",
    "  # Get the last closing price\n",
    "    except:\n",
    "        return None  # Return None if the price is unavailable\n",
    "\n",
    "# Create a new column for current prices\n",
    "df['Current Price'] = df['Symbol'].apply(get_current_price)\n",
    "\n",
    "# Step 3: Save the updated Excel file\n",
    "output_file = \"NSE_FO_Lot_Sizes_with_Prices.xlsx\"\n",
    "df.to_excel(output_file, index=False)\n",
    "\n",
    "print(f\"Updated file saved as {output_file}\")\n"
   ]
  }
 ],
 "metadata": {
  "kernelspec": {
   "display_name": "Python [conda env:base] *",
   "language": "python",
   "name": "conda-base-py"
  },
  "language_info": {
   "codemirror_mode": {
    "name": "ipython",
    "version": 3
   },
   "file_extension": ".py",
   "mimetype": "text/x-python",
   "name": "python",
   "nbconvert_exporter": "python",
   "pygments_lexer": "ipython3",
   "version": "3.12.7"
  }
 },
 "nbformat": 4,
 "nbformat_minor": 5
}
